{
 "cells": [
  {
   "cell_type": "code",
   "execution_count": null,
   "metadata": {
    "colab": {
     "base_uri": "https://localhost:8080/"
    },
    "executionInfo": {
     "elapsed": 6531,
     "status": "ok",
     "timestamp": 1732584625641,
     "user": {
      "displayName": "Nanda Putri Korina M283B4KX3240",
      "userId": "09991481671827623313"
     },
     "user_tz": -420
    },
    "id": "ssX1PsxQD2T1",
    "outputId": "2053ca46-e920-4427-a53d-102044feda8d"
   },
   "outputs": [],
   "source": [
    "from google.colab import drive\n",
    "drive.mount('/content/drive')"
   ]
  },
  {
   "cell_type": "code",
   "execution_count": null,
   "metadata": {
    "colab": {
     "base_uri": "https://localhost:8080/"
    },
    "executionInfo": {
     "elapsed": 6453,
     "status": "ok",
     "timestamp": 1732584632091,
     "user": {
      "displayName": "Nanda Putri Korina M283B4KX3240",
      "userId": "09991481671827623313"
     },
     "user_tz": -420
    },
    "id": "31XGHzugm2fF",
    "outputId": "68191331-180f-46d1-f089-7b43d47b5c64"
   },
   "outputs": [],
   "source": [
    "from google.colab import drive\n",
    "\n",
    "# Mount Google Drive\n",
    "drive.mount('/content/drive')"
   ]
  },
  {
   "cell_type": "markdown",
   "metadata": {
    "id": "JGKoJbmYlZPs"
   },
   "source": [
    "## Install Library"
   ]
  },
  {
   "cell_type": "code",
   "execution_count": null,
   "metadata": {
    "colab": {
     "base_uri": "https://localhost:8080/"
    },
    "executionInfo": {
     "elapsed": 4700,
     "status": "ok",
     "timestamp": 1732584636774,
     "user": {
      "displayName": "Nanda Putri Korina M283B4KX3240",
      "userId": "09991481671827623313"
     },
     "user_tz": -420
    },
    "id": "FvhxTK18l2Al",
    "outputId": "da5906ad-8a7a-4758-9540-ecbfa48ca1c4"
   },
   "outputs": [],
   "source": [
    "# Install necessary libraries\n",
    "!pip install seaborn joblib scikit-learn matplotlib pandas"
   ]
  },
  {
   "cell_type": "markdown",
   "metadata": {
    "id": "s7M2jup8lPsX"
   },
   "source": [
    "## Inport Library"
   ]
  },
  {
   "cell_type": "code",
   "execution_count": 2,
   "metadata": {
    "executionInfo": {
     "elapsed": 9638,
     "status": "ok",
     "timestamp": 1732584646403,
     "user": {
      "displayName": "Nanda Putri Korina M283B4KX3240",
      "userId": "09991481671827623313"
     },
     "user_tz": -420
    },
    "id": "iHPFtfwhk9gA"
   },
   "outputs": [],
   "source": [
    "import pandas as pd\n",
    "import numpy as np\n",
    "import tensorflow as tf\n",
    "from sklearn.preprocessing import StandardScaler\n",
    "from sklearn.model_selection import train_test_split\n",
    "from sklearn.metrics import r2_score\n",
    "import matplotlib.pyplot as plt\n",
    "import seaborn as sns\n",
    "import joblib"
   ]
  },
  {
   "cell_type": "markdown",
   "metadata": {
    "id": "T0smmZPhl5lJ"
   },
   "source": [
    "## Load Dataset"
   ]
  },
  {
   "cell_type": "code",
   "execution_count": 3,
   "metadata": {
    "colab": {
     "base_uri": "https://localhost:8080/"
    },
    "executionInfo": {
     "elapsed": 1418,
     "status": "ok",
     "timestamp": 1732584856854,
     "user": {
      "displayName": "Nanda Putri Korina M283B4KX3240",
      "userId": "09991481671827623313"
     },
     "user_tz": -420
    },
    "id": "n6OTlvw6lUCP",
    "outputId": "4c659934-63b4-455e-95a4-f922c6d90775"
   },
   "outputs": [
    {
     "name": "stdout",
     "output_type": "stream",
     "text": [
      "Combine Dataset:\n",
      "              Name  Calories  Protein(g)  Fat(g)  SaturatedFat(g)  \\\n",
      "0       Cornstarch     381.0        0.26    0.05              0.0   \n",
      "1     Nuts, pecans     691.0        9.17   71.97              6.2   \n",
      "2    Eggplant, raw      25.0        0.98    0.18              0.0   \n",
      "3   Teff, uncooked     367.0       13.30    2.38              0.4   \n",
      "4  Sherbet, orange     144.0        1.10    2.00              1.2   \n",
      "\n",
      "   Cholesterol(mg)  Sodium(mg)  Carbohydrate(g)  Fiber(g)  Sugar(g)  \n",
      "0              0.0         9.0            91.27       0.9      0.00  \n",
      "1              0.0         0.0            13.86       9.6      3.97  \n",
      "2              0.0         2.0             5.88       3.0      3.53  \n",
      "3              0.0        12.0            73.13       8.0      1.84  \n",
      "4              1.0        46.0            30.40       1.3     24.32  \n",
      "\n",
      "Vegan Dataset:\n",
      "  Diet_type                        Recipe_name Cuisine_type  Protein(g)  \\\n",
      "0     vegan                Spiked Vegan Eggnog     american       46.36   \n",
      "1     vegan      Vegan Cucumber Tea Sandwiches     american       41.73   \n",
      "2     vegan         Vegan Broccoli Soup Recipe     american      103.83   \n",
      "3     vegan  Baked Vegan Mac and Cheese Recipe     american      140.19   \n",
      "4     vegan                       Vegan Nachos     american       73.05   \n",
      "\n",
      "   Carbs(g)  Fat(g) Extraction_day Extraction_time  \n",
      "0     84.52   42.61     2022-10-16        20:02:29  \n",
      "1    143.91   73.88     2022-10-16        20:02:29  \n",
      "2     82.54  139.30     2022-10-16        20:02:29  \n",
      "3    524.38  221.29     2022-10-16        20:02:29  \n",
      "4    266.38  166.64     2022-10-16        20:02:29  \n"
     ]
    }
   ],
   "source": [
    "# Define file paths\n",
    "# combine_dataset_path = '/content/drive/My Drive//Machine Learning/Machine-Learning-NutriGoal/data/combine-dataset.csv'\n",
    "# vegan_dataset_path = '/content/drive/My Drive//Machine Learning/Machine-Learning-NutriGoal/data/Category Diets/vegan.csv'\n",
    "combine_dataset_path = '../data/combine-dataset.csv'\n",
    "vegan_dataset_path = '../data/Category Diets/vegan.csv'\n",
    "\n",
    "# Load datasets\n",
    "combine_dataset = pd.read_csv(combine_dataset_path)\n",
    "vegan_dataset = pd.read_csv(vegan_dataset_path)\n",
    "\n",
    "# Display first few rows\n",
    "print(\"Combine Dataset:\")\n",
    "print(combine_dataset.head())\n",
    "\n",
    "print(\"\\nVegan Dataset:\")\n",
    "print(vegan_dataset.head())"
   ]
  },
  {
   "cell_type": "code",
   "execution_count": 4,
   "metadata": {
    "colab": {
     "base_uri": "https://localhost:8080/"
    },
    "executionInfo": {
     "elapsed": 1460,
     "status": "ok",
     "timestamp": 1732587997874,
     "user": {
      "displayName": "Nanda Putri Korina M283B4KX3240",
      "userId": "09991481671827623313"
     },
     "user_tz": -420
    },
    "id": "x0o4_CqWo7JR",
    "outputId": "e481b13e-f851-45ad-b055-15acff939e71"
   },
   "outputs": [
    {
     "name": "stdout",
     "output_type": "stream",
     "text": [
      "Combine Dataset setelah normalisasi:\n",
      "0         cornstarch\n",
      "1       nuts, pecans\n",
      "2      eggplant, raw\n",
      "3     teff, uncooked\n",
      "4    sherbet, orange\n",
      "Name: Name, dtype: object\n",
      "\n",
      "Vegan Dataset setelah normalisasi:\n",
      "0                  spiked vegan eggnog\n",
      "1        vegan cucumber tea sandwiches\n",
      "2           vegan broccoli soup recipe\n",
      "3    baked vegan mac and cheese recipe\n",
      "4                         vegan nachos\n",
      "Name: Recipe_name, dtype: object\n"
     ]
    }
   ],
   "source": [
    "# Normalisasi teks: ubah semua huruf pada kolom 'Name' di combine_dataset dan 'Recipe_name' di vegan_dataset menjadi huruf kecil\n",
    "combine_dataset['Name'] = combine_dataset['Name'].str.lower()  # Normalisasi kolom 'Name' di combine_dataset\n",
    "vegan_dataset['Recipe_name'] = vegan_dataset['Recipe_name'].str.lower()  # Normalisasi kolom 'Recipe_name' di vegan_dataset\n",
    "\n",
    "# Menampilkan hasil normalisasi untuk memastikan\n",
    "print(\"Combine Dataset setelah normalisasi:\")\n",
    "print(combine_dataset['Name'].head())  # Menampilkan 5 data pertama setelah normalisasi\n",
    "\n",
    "print(\"\\nVegan Dataset setelah normalisasi:\")\n",
    "print(vegan_dataset['Recipe_name'].head())  # Menampilkan 5 data pertama setelah normalisasi\n"
   ]
  },
  {
   "cell_type": "code",
   "execution_count": 5,
   "metadata": {
    "colab": {
     "base_uri": "https://localhost:8080/"
    },
    "executionInfo": {
     "elapsed": 19108,
     "status": "ok",
     "timestamp": 1732589993768,
     "user": {
      "displayName": "Nanda Putri Korina M283B4KX3240",
      "userId": "09991481671827623313"
     },
     "user_tz": -420
    },
    "id": "Sq2MrzLbS82q",
    "outputId": "bb32051b-5397-4645-ad2d-a4e08acfbb08"
   },
   "outputs": [
    {
     "name": "stdout",
     "output_type": "stream",
     "text": [
      "              Name  Calories  Protein(g)  Fat(g)  SaturatedFat(g)  \\\n",
      "0       cornstarch     381.0        0.26    0.05              0.0   \n",
      "1     nuts, pecans     691.0        9.17   71.97              6.2   \n",
      "2    eggplant, raw      25.0        0.98    0.18              0.0   \n",
      "3   teff, uncooked     367.0       13.30    2.38              0.4   \n",
      "4  sherbet, orange     144.0        1.10    2.00              1.2   \n",
      "\n",
      "   Cholesterol(mg)  Sodium(mg)  Carbohydrate(g)  Fiber(g)  Sugar(g) Diet_Type  \n",
      "0              0.0         9.0            91.27       0.9      0.00      Keto  \n",
      "1              0.0         0.0            13.86       9.6      3.97      Keto  \n",
      "2              0.0         2.0             5.88       3.0      3.53      Keto  \n",
      "3              0.0        12.0            73.13       8.0      1.84      Keto  \n",
      "4              1.0        46.0            30.40       1.3     24.32      Keto  \n"
     ]
    }
   ],
   "source": [
    "import pandas as pd\n",
    "from sklearn.feature_extraction.text import TfidfVectorizer\n",
    "from sklearn.metrics.pairwise import cosine_similarity\n",
    "\n",
    "# Baca dataset\n",
    "# combine_dataset_path = '/content/drive/My Drive//Machine Learning/Machine-Learning-NutriGoal/data/combine-dataset.csv'\n",
    "# vegan_dataset_path = '/content/drive/My Drive//Machine Learning/Machine-Learning-NutriGoal/data/Category Diets/vegan.csv'\n",
    "\n",
    "# Ambil nama resep dari masing-masing dataset\n",
    "combine_names = combine_dataset['Name'].astype(str)  # Nama resep dari Combine Dataset\n",
    "vegan_names = vegan_dataset['Recipe_name'].astype(str)  # Nama resep dari Vegan Dataset\n",
    "\n",
    "# TF-IDF Vectorizer\n",
    "vectorizer = TfidfVectorizer()\n",
    "tfidf_vegan = vectorizer.fit_transform(vegan_names)  # TF-IDF Vegan Dataset\n",
    "tfidf_combine = vectorizer.transform(combine_names)  # TF-IDF Combine Dataset\n",
    "\n",
    "# Hitung cosine similarity\n",
    "similarity_scores = cosine_similarity(tfidf_combine, tfidf_vegan)\n",
    "\n",
    "# Tentukan threshold untuk label \"Vegan\" atau \"Keto\"\n",
    "threshold = 0.7  # Nilai threshold (bisa disesuaikan)\n",
    "combine_dataset['Diet_Type'] = [\n",
    "    'Vegan' if score > threshold else 'Keto'\n",
    "    for score in similarity_scores.max(axis=1)\n",
    "]\n",
    "\n",
    "# Simpan hasil ke file baru\n",
    "# combine_dataset.to_csv(\"combine_with_diet_type.csv\", index=False)\n",
    "\n",
    "# Tampilkan hasil\n",
    "print(combine_dataset.head())\n"
   ]
  },
  {
   "cell_type": "code",
   "execution_count": 6,
   "metadata": {},
   "outputs": [
    {
     "data": {
      "image/png": "[encoded data removed]",
      "text/plain": [
       "<Figure size 800x600 with 1 Axes>"
      ]
     },
     "metadata": {},
     "output_type": "display_data"
    }
   ],
   "source": [
    "# Hitung distribusi Diet_Type\n",
    "diet_counts = combine_dataset['Diet_Type'].value_counts()\n",
    "\n",
    "# Plot distribusi menggunakan Matplotlib\n",
    "plt.figure(figsize=(8, 6))\n",
    "diet_counts.plot(kind='bar', color=['green', 'blue'])\n",
    "plt.title('Distribution of Diet Types', fontsize=16)\n",
    "plt.xlabel('Diet Type', fontsize=14)\n",
    "plt.ylabel('Count', fontsize=14)\n",
    "plt.xticks(rotation=0)\n",
    "plt.show()"
   ]
  },
  {
   "cell_type": "code",
   "execution_count": 7,
   "metadata": {
    "colab": {
     "base_uri": "https://localhost:8080/"
    },
    "executionInfo": {
     "elapsed": 445,
     "status": "ok",
     "timestamp": 1732594895807,
     "user": {
      "displayName": "Nanda Putri Korina M283B4KX3240",
      "userId": "09991481671827623313"
     },
     "user_tz": -420
    },
    "id": "65wqLMJXs_h_",
    "outputId": "9a834727-9585-481c-ad64-9185483de643"
   },
   "outputs": [
    {
     "name": "stdout",
     "output_type": "stream",
     "text": [
      "Diet_Type\n",
      "Keto     466134\n",
      "Vegan     63903\n",
      "Name: count, dtype: int64\n"
     ]
    }
   ],
   "source": [
    "# Hitung jumlah masing-masing tipe diet\n",
    "diet_counts = combine_dataset['Diet_Type'].value_counts()\n",
    "\n",
    "# Tampilkan hasil\n",
    "print(diet_counts)\n"
   ]
  },
  {
   "cell_type": "code",
   "execution_count": 8,
   "metadata": {
    "executionInfo": {
     "elapsed": 7507,
     "status": "ok",
     "timestamp": 1732595239728,
     "user": {
      "displayName": "Nanda Putri Korina M283B4KX3240",
      "userId": "09991481671827623313"
     },
     "user_tz": -420
    },
    "id": "iAs6tsvWuR5Q"
   },
   "outputs": [],
   "source": [
    "\n",
    "# combine_dataset.to_csv('../data/combine-dataset-kategori.csv', index=False)\n"
   ]
  },
  {
   "cell_type": "code",
   "execution_count": 9,
   "metadata": {
    "colab": {
     "base_uri": "https://localhost:8080/"
    },
    "executionInfo": {
     "elapsed": 6280,
     "status": "ok",
     "timestamp": 1732595581826,
     "user": {
      "displayName": "Nanda Putri Korina M283B4KX3240",
      "userId": "09991481671827623313"
     },
     "user_tz": -420
    },
    "id": "t9fiS07ku7dq",
    "outputId": "1c2f35a8-5630-4a9c-af73-533400914706"
   },
   "outputs": [
    {
     "name": "stdout",
     "output_type": "stream",
     "text": [
      "Silakan pilih preferensi diet Anda:\n",
      "1. Vegan\n",
      "2. Keto\n",
      "\n",
      "Rekomendasi resep dengan diet Keto:\n",
      "                                          Name  Calories  Protein(g)  Fat(g)  \\\n",
      "7                            lamb, raw, ground     282.0       16.56   23.41   \n",
      "8                            cheese, camembert     300.0       19.80   24.26   \n",
      "14                       chicken, boiled, feet     215.0       19.40   14.60   \n",
      "15                       quail, raw, meat only     134.0       21.76    4.53   \n",
      "19                      salami, turkey, cooked     172.0       19.20    9.21   \n",
      "...                                        ...       ...         ...     ...   \n",
      "530015                 holiday lobster newberg    1035.9       80.40   75.00   \n",
      "530017    christmas peanut butter kiss cookies     119.3        2.80    4.80   \n",
      "530028          amazing ground beef stroganoff     422.3       27.30   28.60   \n",
      "530034                   kirshwasser ice cream    1271.3       12.80  117.20   \n",
      "530035  quick easy asian cucumber salmon rolls      16.1        2.40    0.60   \n",
      "\n",
      "        SaturatedFat(g)  Cholesterol(mg)  Sodium(mg)  Carbohydrate(g)  \\\n",
      "7                  10.0             73.0        59.0             0.00   \n",
      "8                  15.0             72.0       842.0             0.46   \n",
      "14                  3.9             84.0        67.0             0.20   \n",
      "15                  1.3             70.0        51.0             0.00   \n",
      "19                  2.8             76.0      1107.0             1.55   \n",
      "...                 ...              ...         ...              ...   \n",
      "530015             44.5            985.1      2171.8             4.60   \n",
      "530017              1.4              3.9       110.7            17.10   \n",
      "530028             12.6            106.0       634.7            14.10   \n",
      "530034             72.6            470.9       192.5            33.90   \n",
      "530035              0.1              2.9       100.5             0.30   \n",
      "\n",
      "        Fiber(g)  Sugar(g) Diet_Type  \n",
      "7            0.0      0.00      Keto  \n",
      "8            0.0      0.46      Keto  \n",
      "14           0.0      0.00      Keto  \n",
      "15           0.0      0.00      Keto  \n",
      "19           0.1      1.12      Keto  \n",
      "...          ...       ...       ...  \n",
      "530015       0.1      0.50      Keto  \n",
      "530017       0.5     12.90      Keto  \n",
      "530028       1.4      5.70      Keto  \n",
      "530034       0.0     17.30      Keto  \n",
      "530035       0.0      0.10      Keto  \n",
      "\n",
      "[201010 rows x 11 columns]\n"
     ]
    }
   ],
   "source": [
    "import pandas as pd\n",
    "\n",
    "# Memuat dataset yang sudah diimpor\n",
    "combine_data = pd.read_csv('../data/combine-dataset-kategori.csv')\n",
    "\n",
    "# Fungsi untuk menampilkan pilihan berdasarkan preferensi user\n",
    "def recommend_diet():\n",
    "    # Tampilkan pilihan diet\n",
    "    print(\"Silakan pilih preferensi diet Anda:\")\n",
    "    print(\"1. Vegan\")\n",
    "    print(\"2. Keto\")\n",
    "\n",
    "    # Input dari pengguna\n",
    "    choice = input(\"Masukkan pilihan diet Anda (1/2): \")\n",
    "\n",
    "    # Validasi input\n",
    "    if choice == '1':\n",
    "        selected_diet = 'Vegan'\n",
    "    elif choice == '2':\n",
    "        selected_diet = 'Keto'\n",
    "    else:\n",
    "        print(\"Pilihan tidak valid. Pilih 1 untuk Vegan atau 2 untuk Keto.\")\n",
    "        return\n",
    "\n",
    "    # Filter data berdasarkan diet yang dipilih\n",
    "    recommended_recipes = combine_data[combine_data['Diet_Type'] == selected_diet]\n",
    "\n",
    "    # Tampilkan rekomendasi resep yang sesuai dengan seluruh kolom\n",
    "    if not recommended_recipes.empty:\n",
    "        print(f\"\\nRekomendasi resep dengan diet {selected_diet}:\")\n",
    "        print(recommended_recipes)  # Menampilkan seluruh kolom\n",
    "    else:\n",
    "        print(f\"\\nTidak ada resep dengan diet {selected_diet} yang ditemukan.\")\n",
    "\n",
    "# Panggil fungsi untuk mendapatkan rekomendasi diet\n",
    "recommend_diet()\n"
   ]
  },
  {
   "cell_type": "code",
   "execution_count": 10,
   "metadata": {},
   "outputs": [
    {
     "name": "stdout",
     "output_type": "stream",
     "text": [
      "<class 'pandas.core.frame.DataFrame'>\n",
      "RangeIndex: 530037 entries, 0 to 530036\n",
      "Data columns (total 11 columns):\n",
      " #   Column           Non-Null Count   Dtype  \n",
      "---  ------           --------------   -----  \n",
      " 0   Name             530037 non-null  object \n",
      " 1   Calories         530037 non-null  float64\n",
      " 2   Protein(g)       530037 non-null  float64\n",
      " 3   Fat(g)           530037 non-null  float64\n",
      " 4   SaturatedFat(g)  530037 non-null  float64\n",
      " 5   Cholesterol(mg)  530037 non-null  float64\n",
      " 6   Sodium(mg)       530037 non-null  float64\n",
      " 7   Carbohydrate(g)  530037 non-null  float64\n",
      " 8   Fiber(g)         530037 non-null  float64\n",
      " 9   Sugar(g)         530037 non-null  float64\n",
      " 10  Diet_Type        530037 non-null  object \n",
      "dtypes: float64(9), object(2)\n",
      "memory usage: 44.5+ MB\n"
     ]
    }
   ],
   "source": [
    "# List of non-vegan food names\n",
    "non_vegan_foods = ['Alligator', 'Alpaca', 'Anchovy', 'Armadillo', 'Bass', 'Bison', 'Buffalo', 'Camel', 'Capon', 'Catfish', 'Chicken', 'Clam', 'Cod', 'Cow', 'Crab', 'Crocodile', 'Cuttlefish', 'Deer', 'Dove', 'Duck', 'Eel', 'Elk', 'Emu', 'Fish', 'Goat', 'Goose', 'Grouse', 'Guinea Pig', 'Hare', 'Horse', 'Kangaroo', 'Llama', 'Lobster', 'Mackerel', 'Moose', 'Mussel', 'Octopus', 'Ostrich', 'Oyster', 'Pangolin', 'Partridge', 'Peafowl', 'Pheasant', 'Pig', 'Pigeon', 'Quail', 'Rabbit', 'Reindeer', 'Salmon', 'Sardine', 'Scallop', 'Sea Urchin', 'Sheep', 'Shrimp', 'Silkie Chicken', 'Snake', 'Squid', 'Tilapia', 'Trout', 'Tuna', 'Turkey', 'Turtle', 'Wild Boar', 'Yak', 'anchovies', 'anchovy paste', 'animal fat', 'bacon', 'beef', 'beef broth', 'beef steak', 'bison', 'black pudding', 'blood sausage', 'boar sausage', 'boiled eggs', 'bone marrow', 'brie', 'brisket', 'burgers', 'butter', 'buttermilk', 'camel meat', 'casein', 'catfish', 'caviar', 'cheddar', 'cheese', 'cheeseburgers', 'chicken', 'chicken breast', 'chicken broth', 'chicken salad', 'chicken thighs', 'chicken wings', 'chorizo', 'clam chowder', 'clams', 'cod', 'cow milk', 'crab', 'crab sticks', 'cream cheese', 'drumsticks', 'duck', 'duck liver', 'eel', 'egg whites', 'egg yolks', 'eggs,prosciutto', 'elk meat', 'emu meat', 'feta', 'fish', 'fish curry', 'fish fillet', 'fish pie', 'fish sauce', 'foie gras', 'fried eggs', 'fried fish', 'frog legs', 'gelatin', 'ghee', 'gizzards', 'goat meat', 'goat milk', 'gouda', 'gravy (meat-based)', 'grilled fish', 'ham', 'honey', 'horse meat', 'hot dogs', 'ice cream', 'jerky', 'kangaroo meat', 'kidney', 'lamb', 'lamb steak', 'lard', 'liver', 'lobster', 'lobster bisque', 'mackerel', 'marshmallows', 'meat loaf', 'meatballs', 'milk', 'mozzarella', 'mussels', 'mutton', 'octopus', 'ostrich meat', 'oyster sauce', 'parmesan', 'pate', 'pepperoni', 'pickled herring', 'pork', 'pork belly', 'pork chops', 'pork cracklings', 'pork rinds', 'pork sausage', 'pork skin', 'pork steak', 'poultry fat', 'rabbit', 'ribs', 'ricotta', 'roasted chicken', 'roasted duck', 'roasted meat', 'roasted turkey', 'roe', 'salami', 'salmon', 'sardines', 'sashimi', 'sausage', 'scallops', 'scrambled eggs', 'seafood chowder', 'seafood paella', 'sheep milk', 'shellfish', 'shrimp', 'smoked fish', 'smoked meats', 'smoked salmon', 'smoked sausages', 'sour cream', 'squid', 'steak', 'suet', 'surimi', 'sushi (non-vegan types)', 'tallow', 'teriyaki salmon', 'tripe', 'trout', 'tuna', 'tuna salad', 'turkey', 'turkey breast', 'turkey legs', 'turkey salad', 'turkey wings', 'veal', 'venison', 'whey protein', 'white pudding', 'whole eggs', 'wild boar', 'yogurt']\n",
    "\n",
    "\n",
    "# Pastikan kolom 'Name' adalah string dan isi NaN dengan nilai default\n",
    "combine_dataset['Name'] = combine_dataset['Name'].fillna(\"\").astype(str)\n",
    "\n",
    "# Add a new column 'Diet_Type' based on Name\n",
    "combine_dataset['Diet_Type'] = combine_dataset['Name'].apply(\n",
    "    lambda x: 'Keto' if any(food.lower() in x.lower() for food in non_vegan_foods) else 'Vegan'\n",
    ")\n",
    "\n",
    "combine_dataset.info()"
   ]
  },
  {
   "cell_type": "code",
   "execution_count": 11,
   "metadata": {},
   "outputs": [
    {
     "data": {
      "image/png": "[encoded data removed]",
      "text/plain": [
       "<Figure size 800x600 with 1 Axes>"
      ]
     },
     "metadata": {},
     "output_type": "display_data"
    },
    {
     "name": "stderr",
     "output_type": "stream",
     "text": [
      "C:\\Users\\HP\\AppData\\Local\\Temp\\ipykernel_15692\\2758888008.py:15: FutureWarning: \n",
      "\n",
      "Passing `palette` without assigning `hue` is deprecated and will be removed in v0.14.0. Assign the `x` variable to `hue` and set `legend=False` for the same effect.\n",
      "\n",
      "  sns.countplot(data=combine_dataset, x='Diet_Type', palette='viridis')\n"
     ]
    },
    {
     "data": {
      "image/png": "[encoded data removed]",
      "text/plain": [
       "<Figure size 800x600 with 1 Axes>"
      ]
     },
     "metadata": {},
     "output_type": "display_data"
    }
   ],
   "source": [
    "# Hitung distribusi Diet_Type\n",
    "diet_counts = combine_dataset['Diet_Type'].value_counts()\n",
    "\n",
    "# Plot distribusi menggunakan Matplotlib\n",
    "plt.figure(figsize=(8, 6))\n",
    "diet_counts.plot(kind='bar', color=['green', 'blue'])\n",
    "plt.title('Distribution of Diet Types', fontsize=16)\n",
    "plt.xlabel('Diet Type', fontsize=14)\n",
    "plt.ylabel('Count', fontsize=14)\n",
    "plt.xticks(rotation=0)\n",
    "plt.show()\n",
    "\n",
    "# Plot distribusi menggunakan Seaborn\n",
    "plt.figure(figsize=(8, 6))\n",
    "sns.countplot(data=combine_dataset, x='Diet_Type', palette='viridis')\n",
    "plt.title('Distribution of Diet Types', fontsize=16)\n",
    "plt.xlabel('Diet Type', fontsize=14)\n",
    "plt.ylabel('Count', fontsize=14)\n",
    "plt.show()"
   ]
  },
  {
   "cell_type": "code",
   "execution_count": null,
   "metadata": {},
   "outputs": [],
   "source": [
    "\n",
    "combine_dataset.to_csv('../data/combine-dataset-kategori.csv', index=False)\n"
   ]
  },
  {
   "cell_type": "code",
   "execution_count": null,
   "metadata": {},
   "outputs": [],
   "source": []
  },
  {
   "cell_type": "code",
   "execution_count": null,
   "metadata": {},
   "outputs": [],
   "source": []
  }
 ],
 "metadata": {
  "colab": {
   "provenance": []
  },
  "kernelspec": {
   "display_name": "Python 3",
   "name": "python3"
  },
  "language_info": {
   "codemirror_mode": {
    "name": "ipython",
    "version": 3
   },
   "file_extension": ".py",
   "mimetype": "text/x-python",
   "name": "python",
   "nbconvert_exporter": "python",
   "pygments_lexer": "ipython3",
   "version": "3.9.0"
  }
 },
 "nbformat": 4,
 "nbformat_minor": 0
}
