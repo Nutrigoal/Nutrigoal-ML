{
 "cells": [
  {
   "cell_type": "markdown",
   "id": "83264518",
   "metadata": {},
   "source": [
    "# Requirements Python\n",
    "**Python Version: 3.9**\n",
    "\n",
    "**Library Python**\n",
    "| **Package**                  | **Version**  |\n",
    "|------------------------------|--------------|\n",
    "| matplotlib                   | 3.9.2        |\n",
    "| numpy                        | 1.24.3       |\n",
    "| pandas                       | 2.2.3        |\n",
    "| pip                          | 24.3.1       |\n",
    "| seaborn                      | 0.13.2       |\n",
    "| scipy                        | 1.10.1       |\n",
    "| nltk                         | 3.7          |\n",
    "| wordcloud                    | 1.8.2        |\n",
    "| scikit-learn                 | 1.2.2        |\n",
    "| regex                        | 2023.9.0     |\n"
   ]
  },
  {
   "cell_type": "markdown",
   "id": "f55afe63-63fc-4021-a693-ae4330719e14",
   "metadata": {},
   "source": [
    "# Library & Load Dataset Nutrition"
   ]
  },
  {
   "cell_type": "code",
   "execution_count": null,
   "id": "d2f1a78c-b2a3-4ca7-aec1-3e650b12fe90",
   "metadata": {},
   "outputs": [],
   "source": [
    "import pandas as pd\n",
    "import numpy as np\n",
    "import matplotlib.pyplot as plt\n",
    "import seaborn as sns\n",
    "import re\n",
    "import nltk\n",
    "from wordcloud import WordCloud\n",
    "\n",
    "# Download required NLTK data\n",
    "nltk.download('punkt')\n",
    "\n",
    "# Load dataset\n",
    "df = pd.read_csv(r'..\\data\\combine-dataset.csv')\n",
    "df"
   ]
  },
  {
   "cell_type": "markdown",
   "id": "79b2dfb2-e2f6-4dd7-8964-698025236c6c",
   "metadata": {},
   "source": [
    "# Data Cleaning "
   ]
  },
  {
   "cell_type": "code",
   "execution_count": null,
   "id": "b47fa1be",
   "metadata": {},
   "outputs": [],
   "source": [
    "# Daftar batas maksimum nutrisi\n",
    "max_Calories = 2650\n",
    "max_daily_fat = 100\n",
    "max_daily_Saturatedfat = 13\n",
    "max_daily_Cholesterol = 300\n",
    "max_daily_Sodium = 2300\n",
    "max_daily_Carbohydrate = 325\n",
    "max_daily_Fiber = 40\n",
    "max_daily_Sugar = 40\n",
    "max_daily_Protein = 200\n",
    "\n",
    "max_list = [\n",
    "    max_Calories,\n",
    "    max_daily_fat,\n",
    "    max_daily_Saturatedfat,\n",
    "    max_daily_Cholesterol,\n",
    "    max_daily_Sodium,\n",
    "    max_daily_Carbohydrate,\n",
    "    max_daily_Fiber,\n",
    "    max_daily_Sugar,\n",
    "    max_daily_Protein\n",
    "]\n",
    "\n",
    "# Pastikan dataset memiliki kolom nutrisi sesuai\n",
    "nutritional_columns = [\n",
    "    'Calories', 'Fat(g)', 'SaturatedFat(g)', 'Cholesterol(mg)', 'Sodium(mg)',\n",
    "    'Carbohydrate(g)', 'Fiber(g)', 'Sugar(g)', 'Protein(g)'\n",
    "]\n",
    "\n",
    "# Filter dataset berdasarkan batas maksimum\n",
    "df = df.copy()\n",
    "for column, maximum in zip(nutritional_columns, max_list):\n",
    "    if column in df.columns:\n",
    "        df = df[df[column] < maximum]"
   ]
  },
  {
   "cell_type": "code",
   "execution_count": null,
   "id": "deabd130",
   "metadata": {},
   "outputs": [],
   "source": [
    "# Membagi dataset menjadi setengah (50%)\n",
    "df = df.sample(frac=0.5, random_state=42)  # 'frac=0.5' artinya 50% dari dataset"
   ]
  },
  {
   "cell_type": "code",
   "execution_count": null,
   "id": "39a5e77c-04c4-4354-bbe3-8f655e9509ec",
   "metadata": {},
   "outputs": [],
   "source": [
    "# Basic info and statistics of the dataset\n",
    "df.info()\n",
    "\n",
    "# Check for missing values\n",
    "df.isnull().sum()\n",
    "\n",
    "# Display basic statistics of the numeric columns\n",
    "df.describe()"
   ]
  },
  {
   "cell_type": "markdown",
   "id": "75708df8-f297-410c-a0ee-cde3b86d522a",
   "metadata": {},
   "source": [
    "## Visualize Missing Values"
   ]
  },
  {
   "cell_type": "markdown",
   "id": "65abf390-2fa4-4ba7-9f24-d06e7bc09c2c",
   "metadata": {},
   "source": [
    "### Check Data Missing Values"
   ]
  },
  {
   "cell_type": "code",
   "execution_count": null,
   "id": "9c82ea1a-9757-467a-a5a0-4f92b0de5f5c",
   "metadata": {},
   "outputs": [],
   "source": [
    "df_missing_values = df.isnull().sum()\n",
    "df_missing_columns = df_missing_values[df_missing_values > 0]\n",
    "print(\"Terdapat Data Yang Hilang Sebanyak \",df_missing_columns.count(), \"Kolom, Dengan Nama Kolom : \")\n",
    "print(df_missing_columns)\n",
    "plt.figure(figsize=(12, 8))\n",
    "sns.heatmap(df.isnull(), cbar=False, cmap=\"viridis\")\n",
    "plt.title(\"Missing Values Heatmap\")\n",
    "plt.show()"
   ]
  },
  {
   "cell_type": "markdown",
   "id": "f12dafbe",
   "metadata": {},
   "source": [
    "## Distribution of Key Nutrients (Histogram)"
   ]
  },
  {
   "cell_type": "code",
   "execution_count": null,
   "id": "ce3cc967",
   "metadata": {},
   "outputs": [],
   "source": [
    "# List of key nutrient columns for distribution analysis\n",
    "selected_columns = ['Calories', 'Protein(g)', 'Fat(g)', 'SaturatedFat(g)', \n",
    "                    'Cholesterol(mg)', 'Sodium(mg)', 'Carbohydrate(g)', 'Fiber(g)', 'Sugar(g)']\n",
    "\n",
    "# Set up a larger grid to visualize these columns\n",
    "rows = (len(selected_columns) // 4) + 1\n",
    "\n",
    "plt.figure(figsize=(18, 4 * rows))\n",
    "\n",
    "for i, col in enumerate(selected_columns, 1):\n",
    "    plt.subplot(rows, 4, i)\n",
    "    sns.histplot(df[col].dropna(), kde=True)\n",
    "    plt.title(f\"Distribution of {col}\")\n",
    "    plt.xlabel(col)\n",
    "    plt.ylabel(\"Count\")\n",
    "    plt.tight_layout()\n",
    "\n",
    "plt.show()"
   ]
  },
  {
   "cell_type": "markdown",
   "id": "a3b78aa5",
   "metadata": {},
   "source": [
    "## Boxplot to Detect Outliers"
   ]
  },
  {
   "cell_type": "code",
   "execution_count": null,
   "id": "adee6fd6",
   "metadata": {},
   "outputs": [],
   "source": [
    "# Boxplot to detect outliers\n",
    "plt.figure(figsize=(18, 4 * rows))\n",
    "\n",
    "for i, col in enumerate(selected_columns, 1):\n",
    "    plt.subplot(rows, 4, i)\n",
    "    sns.boxplot(x=df[col].dropna())\n",
    "    plt.title(f\"Boxplot of {col}\")\n",
    "    plt.xlabel(col)\n",
    "    plt.tight_layout()\n",
    "\n",
    "plt.show()\n"
   ]
  },
  {
   "cell_type": "markdown",
   "id": "6e3a999f",
   "metadata": {},
   "source": [
    "## Correlation Heatmap"
   ]
  },
  {
   "cell_type": "code",
   "execution_count": null,
   "id": "37b97105",
   "metadata": {},
   "outputs": [],
   "source": [
    "plt.figure(figsize=(14, 10))\n",
    "correlation_matrix = df[selected_columns].corr()\n",
    "\n",
    "# Generate heatmap\n",
    "sns.heatmap(correlation_matrix, annot=True, cmap='coolwarm', linewidths=0.5)\n",
    "plt.title(\"Correlation Heatmap of Nutritional Values\")\n",
    "plt.show()"
   ]
  },
  {
   "cell_type": "markdown",
   "id": "c0e66371",
   "metadata": {},
   "source": [
    "## Comparison of Macronutrients"
   ]
  },
  {
   "cell_type": "code",
   "execution_count": null,
   "id": "d4dfbea4",
   "metadata": {},
   "outputs": [],
   "source": [
    "macronutrients = ['Carbohydrate(g)', 'Protein(g)', 'Fat(g)']\n",
    "\n",
    "plt.figure(figsize=(10, 6))\n",
    "sns.boxplot(data=df[macronutrients])\n",
    "plt.title(\"Comparison of Macronutrient Content\")\n",
    "plt.ylabel(\"Grams per Serving\")\n",
    "plt.show()"
   ]
  },
  {
   "cell_type": "markdown",
   "id": "9b0aaff8",
   "metadata": {},
   "source": [
    "## Top High-Protein Foods"
   ]
  },
  {
   "cell_type": "code",
   "execution_count": null,
   "id": "038f28dc",
   "metadata": {},
   "outputs": [],
   "source": [
    "# Sort by protein content and plot top 10 foods\n",
    "top_protein = df[['Name', 'Protein(g)']].sort_values(by='Protein(g)', ascending=False).head(10)\n",
    "\n",
    "plt.figure(figsize=(10, 6))\n",
    "sns.barplot(x='Protein(g)', y='Name', data=top_protein, palette='viridis')\n",
    "plt.title(\"Top 10 Foods with Highest Protein Content\")\n",
    "plt.xlabel(\"Protein(g)\")\n",
    "plt.ylabel(\"Food Name\")\n",
    "plt.show()"
   ]
  },
  {
   "cell_type": "markdown",
   "id": "af1b0627",
   "metadata": {},
   "source": [
    "## Top Low-Calorie Foods"
   ]
  },
  {
   "cell_type": "code",
   "execution_count": null,
   "id": "c757cfa7",
   "metadata": {},
   "outputs": [],
   "source": [
    "# Sort by calories and plot top 10 lowest-calorie foods\n",
    "low_calories = df[['Name', 'Calories']].sort_values(by='Calories', ascending=True).head(10)\n",
    "\n",
    "plt.figure(figsize=(10, 6))\n",
    "sns.barplot(x='Calories', y='Name', data=low_calories, palette='Blues')\n",
    "plt.title(\"Top 10 Foods with Lowest Calories\")\n",
    "plt.xlabel(\"Calories\")\n",
    "plt.ylabel(\"Food Name\")\n",
    "plt.show()"
   ]
  },
  {
   "cell_type": "markdown",
   "id": "fc00a631",
   "metadata": {},
   "source": [
    "## Visualize distribution of calories"
   ]
  },
  {
   "cell_type": "code",
   "execution_count": null,
   "id": "afa33b3c",
   "metadata": {},
   "outputs": [],
   "source": [
    "plt.figure(figsize=(10, 6))\n",
    "sns.histplot(df['Calories'], kde=True, bins=30, color='skyblue')\n",
    "plt.title('Distribution of Calories')\n",
    "plt.xlabel('Calories')\n",
    "plt.ylabel('Frequency')\n",
    "plt.show()"
   ]
  },
  {
   "cell_type": "markdown",
   "id": "007c1b4e",
   "metadata": {},
   "source": [
    "## Top 10 foods with the highest calories"
   ]
  },
  {
   "cell_type": "code",
   "execution_count": null,
   "id": "9b35ed2b",
   "metadata": {},
   "outputs": [],
   "source": [
    "top_calories = df[['Name', 'Calories']].sort_values(by='Calories', ascending=False).head(10)\n",
    "print(\"\\nTop 10 Foods with the Highest Calories:\")\n",
    "print(top_calories)"
   ]
  },
  {
   "cell_type": "markdown",
   "id": "d8e5c166",
   "metadata": {},
   "source": [
    "## Top 10 foods with the highest protein content"
   ]
  },
  {
   "cell_type": "code",
   "execution_count": null,
   "id": "10a3e223",
   "metadata": {},
   "outputs": [],
   "source": [
    "top_protein = df[['Name', 'Protein(g)']].sort_values(by='Protein(g)', ascending=False).head(10)\n",
    "print(\"\\nTop 10 Foods with the Highest Protein Content:\")\n",
    "print(top_protein)"
   ]
  },
  {
   "cell_type": "markdown",
   "id": "023e70e1",
   "metadata": {},
   "source": [
    "## Visualizing nutrient content"
   ]
  },
  {
   "cell_type": "code",
   "execution_count": null,
   "id": "fc5d2c8d",
   "metadata": {},
   "outputs": [],
   "source": [
    "nutrients = ['Fat(g)', 'SaturatedFat(g)', 'Cholesterol(mg)', 'Sodium(mg)', 'Carbohydrate(g)', 'Protein(g)']\n",
    "df[nutrients].hist(figsize=(15, 10), bins=20)\n",
    "plt.suptitle('Nutrient Content Distribution', fontsize=20)\n",
    "plt.show()"
   ]
  },
  {
   "cell_type": "markdown",
   "id": "084c070a",
   "metadata": {},
   "source": [
    "## Pairplot to analyze relationships between various nutrients"
   ]
  },
  {
   "cell_type": "code",
   "execution_count": null,
   "id": "451a3f50",
   "metadata": {},
   "outputs": [],
   "source": [
    "sns.pairplot(df[['Calories', 'Protein(g)', 'Fat(g)', 'Carbohydrate(g)', 'Fiber(g)']])\n",
    "plt.show()"
   ]
  },
  {
   "cell_type": "markdown",
   "id": "65ce41a5",
   "metadata": {},
   "source": [
    "## Scatter plot of calories vs protein content"
   ]
  },
  {
   "cell_type": "code",
   "execution_count": null,
   "id": "34b7803d",
   "metadata": {},
   "outputs": [],
   "source": [
    "plt.figure(figsize=(10, 6))\n",
    "plt.scatter(df['Calories'], df['Protein(g)'], alpha=0.6, color='purple')\n",
    "plt.title('Calories vs. Protein Content')\n",
    "plt.xlabel('Calories')\n",
    "plt.ylabel('Protein(g)')\n",
    "plt.grid(True)\n",
    "plt.show()"
   ]
  },
  {
   "cell_type": "markdown",
   "id": "8e8a61a3",
   "metadata": {},
   "source": [
    "## Stacked Bar Chart: Proportion of Nutrients in Recipes"
   ]
  },
  {
   "cell_type": "code",
   "execution_count": null,
   "id": "d71a3a62",
   "metadata": {},
   "outputs": [],
   "source": [
    "# Select key columns for macronutrients analysis\n",
    "macronutrient_cols = ['Name', 'Carbohydrate(g)', 'Protein(g)', 'Fat(g)']\n",
    "\n",
    "# Filter dataset to include only relevant columns\n",
    "df_macronutrients = df[macronutrient_cols].dropna()\n",
    "\n",
    "# Normalize the macronutrient values to show proportions\n",
    "df_macronutrients['total'] = df_macronutrients[['Carbohydrate(g)', 'Protein(g)', 'Fat(g)']].sum(axis=1)\n",
    "df_macronutrients['carbohydrate (%)'] = (df_macronutrients['Carbohydrate(g)'] / df_macronutrients['total']) * 100\n",
    "df_macronutrients['protein (%)'] = (df_macronutrients['Protein(g)'] / df_macronutrients['total']) * 100\n",
    "df_macronutrients['fat (%)'] = (df_macronutrients['Fat(g)'] / df_macronutrients['total']) * 100\n",
    "\n",
    "# Sort by total content and take top 10 for visualization\n",
    "top_10 = df_macronutrients.sort_values(by='total', ascending=False).head(100)\n",
    "\n",
    "# Plotting the stacked bar chart\n",
    "plt.figure(figsize=(12, 8))\n",
    "plt.bar(top_10['Name'], top_10['carbohydrate (%)'], label='Carbohydrates', color='skyblue')\n",
    "plt.bar(top_10['Name'], top_10['protein (%)'], bottom=top_10['carbohydrate (%)'], label='Protein', color='lightgreen')\n",
    "plt.bar(top_10['Name'], top_10['fat (%)'], \n",
    "        bottom=top_10['carbohydrate (%)'] + top_10['protein (%)'], label='Fat', color='salmon')\n",
    "\n",
    "plt.title(\"Proportion of Macronutrients in Top 100 Foods\")\n",
    "plt.xlabel(\"Food Items\")\n",
    "plt.ylabel(\"Proportion (%)\")\n",
    "plt.xticks(rotation=45, ha='right')\n",
    "plt.legend()\n",
    "plt.tight_layout()\n",
    "plt.show()"
   ]
  },
  {
   "cell_type": "markdown",
   "id": "0a44456e",
   "metadata": {},
   "source": [
    "## Average Nutrient Composition Across All Recipes"
   ]
  },
  {
   "cell_type": "code",
   "execution_count": null,
   "id": "d3b4545b",
   "metadata": {},
   "outputs": [],
   "source": [
    "# Calculate average proportion of macronutrients across the entire dataset\n",
    "avg_carbs = df_macronutrients['Carbohydrate(g)'].sum()\n",
    "avg_protein = df_macronutrients['Protein(g)'].sum()\n",
    "avg_fat = df_macronutrients['Fat(g)'].sum()\n",
    "total = avg_carbs + avg_protein + avg_fat\n",
    "\n",
    "# Calculate the percentage of each nutrient\n",
    "macronutrient_distribution = {\n",
    "    'Carbohydrates': (avg_carbs / total) * 100,\n",
    "    'Protein': (avg_protein / total) * 100,\n",
    "    'Fat': (avg_fat / total) * 100\n",
    "}\n",
    "\n",
    "# Pie chart visualization\n",
    "plt.figure(figsize=(8, 8))\n",
    "plt.pie(macronutrient_distribution.values(), labels=macronutrient_distribution.keys(), \n",
    "        autopct='%1.1f%%', colors=['skyblue', 'lightgreen', 'salmon'])\n",
    "plt.title(\"Average Nutrient Composition Across All Recipes\")\n",
    "plt.show()"
   ]
  },
  {
   "cell_type": "markdown",
   "id": "21fb854e",
   "metadata": {},
   "source": [
    "## WordCloud for food names"
   ]
  },
  {
   "cell_type": "code",
   "execution_count": null,
   "id": "5d6553c4",
   "metadata": {},
   "outputs": [],
   "source": [
    "# Pastikan semua nilai dalam kolom 'Name' adalah string\n",
    "df['Name'] = df['Name'].fillna('').astype(str)\n",
    "\n",
    "# Gabungkan semua nama makanan menjadi satu string\n",
    "text = \" \".join(df['Name'])\n",
    "\n",
    "# Buat WordCloud\n",
    "wordcloud = WordCloud(width=800, height=400, background_color='white').generate(text)\n",
    "\n",
    "# Plot WordCloud\n",
    "plt.figure(figsize=(10, 6))\n",
    "plt.imshow(wordcloud, interpolation='bilinear')\n",
    "plt.axis('off')\n",
    "plt.title('WordCloud of Food Names')\n",
    "plt.show()"
   ]
  },
  {
   "cell_type": "code",
   "execution_count": null,
   "id": "79ee5d0e",
   "metadata": {},
   "outputs": [],
   "source": [
    "# 1. Hitung frekuensi nama makanan\n",
    "food_counts = df['Name'].value_counts()\n",
    "\n",
    "# 2. Ambil top N nama makanan yang paling sering muncul (misalnya, top 100)\n",
    "top_food_names = food_counts.head(100)\n",
    "\n",
    "# 3. Gabungkan nama makanan menjadi teks untuk WordCloud tanpa memperhitungkan frekuensi\n",
    "text = \" \".join(top_food_names.index)\n",
    "\n",
    "# 4. Generate WordCloud\n",
    "wordcloud = WordCloud(width=800, height=400, background_color='white').generate(text)\n",
    "\n",
    "# 5. Visualisasikan WordCloud\n",
    "plt.figure(figsize=(10, 6))\n",
    "plt.imshow(wordcloud, interpolation='bilinear')\n",
    "plt.axis('off')\n",
    "plt.title('WordCloud of Unique Trending Food Names')\n",
    "plt.show()\n",
    "print(top_food_names.head(100))"
   ]
  },
  {
   "cell_type": "code",
   "execution_count": null,
   "id": "ac2a43e6",
   "metadata": {},
   "outputs": [],
   "source": [
    "# import pandas as pd\n",
    "# from wordcloud import WordCloud\n",
    "# import matplotlib.pyplot as plt\n",
    "\n",
    "# # Contoh daftar kata yang dianggap makanan atau bahan makanan (bisa ditambah atau diimpor dari file)\n",
    "# food_keywords = [\n",
    "#     # Buah-buahan\n",
    "#     \"Apple\", \"Banana\", \"Orange\", \"Mango\", \"Strawberry\", \"Pineapple\", \"Watermelon\", \"Papaya\", \n",
    "#     \"Grape\", \"Blueberry\", \"Blackberry\", \"Raspberry\", \"Cherry\", \"Kiwi\", \"Lemon\", \"Lime\", \n",
    "#     \"Peach\", \"Pear\", \"Plum\", \"Pomegranate\", \"Avocado\", \"Coconut\", \"Guava\", \"Fig\", \"Dates\", \n",
    "#     \"Lychee\", \"Dragonfruit\", \"Persimmon\", \"Mulberry\", \"Cranberry\", \"Cantaloupe\", \"Honeydew\", \n",
    "#     \"Starfruit\", \"Durian\", \"Jackfruit\", \"Passionfruit\", \"Rambutan\", \"Longan\", \"Soursop\", \n",
    "#     \"Gooseberry\", \"Mangosteen\", \"Sugar Apple\", \"Salak\", \"Elderberry\", \"Quince\", \"Tamarind\", \n",
    "#     \"Sapodilla\", \"Bael\", \"Breadfruit\", \"Ackee\", \"Jujube\", \"Medlar\", \"Currant\", \"Acerola\", \n",
    "#     \"Loquat\", \"Boysenberry\",\n",
    "\n",
    "#     # Sayuran\n",
    "#     \"Carrot\", \"Potato\", \"Tomato\", \"Onion\", \"Garlic\", \"Spinach\", \"Lettuce\", \"Kale\", \"Broccoli\", \n",
    "#     \"Cauliflower\", \"Cucumber\", \"Zucchini\", \"Eggplant\", \"Bell Pepper\", \"Chili Pepper\", \"Beet\", \n",
    "#     \"Radish\", \"Turnip\", \"Sweet Potato\", \"Pumpkin\", \"Squash\", \"Celery\", \"Asparagus\", \"Green Bean\", \n",
    "#     \"Pea\", \"Okra\", \"Cabbage\", \"Bok Choy\", \"Brussels Sprouts\", \"Artichoke\", \"Leek\", \"Fennel\", \n",
    "#     \"Shallot\", \"Ginger\", \"Turmeric\", \"Collard Greens\", \"Mustard Greens\", \"Swiss Chard\", \n",
    "#     \"Watercress\", \"Arugula\", \"Taro\", \"Yam\", \"Bamboo Shoot\", \"Corn\", \"Parsley\", \"Cilantro\", \n",
    "#     \"Basil\", \"Thyme\", \"Rosemary\", \"Oregano\", \"Mint\", \"Chives\", \"Dill\",\n",
    "\n",
    "#     # Hewan Ternak\n",
    "#     \"Chicken\", \"Duck\", \"Turkey\", \"Goose\", \"Quail\", \"Rabbit\", \"Cow\", \"Pig\", \"Sheep\", \"Goat\", \n",
    "#     \"Buffalo\", \"Camel\", \"Yak\", \"Horse\", \"Deer\", \"Elk\", \"Moose\", \"Reindeer\", \"Kangaroo\", \n",
    "#     \"Ostrich\", \"Emu\", \"Pheasant\", \"Partridge\", \"Dove\", \"Pigeon\", \"Crab\", \"Lobster\", \"Shrimp\", \n",
    "#     \"Fish\", \"Tuna\", \"Salmon\", \"Cod\", \"Tilapia\", \"Catfish\", \"Sardine\", \"Anchovy\", \"Mackerel\", \n",
    "#     \"Trout\", \"Bass\", \"Eel\", \"Squid\", \"Octopus\", \"Clam\", \"Oyster\", \"Mussel\", \"Scallop\"\n",
    "# ]\n",
    "\n",
    "\n",
    "# # Filter nama makanan yang relevan\n",
    "# def filter_food_names(names, keywords):\n",
    "#     filtered = []\n",
    "#     for name in names:\n",
    "#         words = name.lower().split()  # Split nama menjadi kata-kata kecil\n",
    "#         if any(word in keywords for word in words):\n",
    "#             filtered.append(name)\n",
    "#     return filtered\n",
    "\n",
    "# # 1. Hitung frekuensi nama makanan\n",
    "# food_counts = df['Name'].value_counts()\n",
    "\n",
    "# # 2. Ambil top N nama makanan yang paling sering muncul (misalnya, top 100)\n",
    "# top_food_names = food_counts.head(100)\n",
    "\n",
    "# # Pastikan kolom 'Name' bersih\n",
    "# top_food_names['Name'] = df['Name'].fillna('').astype(str)\n",
    "\n",
    "# # Ambil nama makanan unik\n",
    "# unique_food_names = df['Name'].unique()\n",
    "\n",
    "# # Filter hanya nama yang berisi kata dari food_keywords\n",
    "# filtered_names = filter_food_names(unique_food_names, food_keywords)\n",
    "\n",
    "# # Gabungkan nama makanan yang sudah difilter untuk WordCloud\n",
    "# text = \" \".join(filtered_names)\n",
    "\n",
    "# # Buat WordCloud\n",
    "# wordcloud = WordCloud(width=800, height=400, background_color='white').generate(text)\n",
    "\n",
    "# # Visualisasikan WordCloud\n",
    "# plt.figure(figsize=(10, 6))\n",
    "# plt.imshow(wordcloud, interpolation='bilinear')\n",
    "# plt.axis('off')\n",
    "# plt.title('WordCloud of Filtered Food Names')\n",
    "# plt.show()\n"
   ]
  },
  {
   "cell_type": "code",
   "execution_count": 28,
   "id": "27c4da22",
   "metadata": {},
   "outputs": [
    {
     "name": "stdout",
     "output_type": "stream",
     "text": [
      "Apple: 5464 entries\n",
      "Banana: 2909 entries\n",
      "Orange: 2551 entries\n",
      "Mango: 823 entries\n",
      "Strawberry: 1716 entries\n",
      "Pineapple: 1276 entries\n",
      "Watermelon: 255 entries\n",
      "Papaya: 104 entries\n",
      "Grape: 441 entries\n",
      "Blueberry: 1221 entries\n",
      "Blackberry: 186 entries\n",
      "Raspberry: 973 entries\n",
      "Cherry: 1310 entries\n",
      "Kiwi: 133 entries\n",
      "Lemon: 4102 entries\n",
      "Lime: 1200 entries\n",
      "Peach: 1107 entries\n",
      "Pear: 794 entries\n",
      "Plum: 242 entries\n",
      "Pomegranate: 206 entries\n",
      "Avocado: 1056 entries\n",
      "Coconut: 1245 entries\n",
      "Guava: 36 entries\n",
      "Fig: 273 entries\n",
      "Dates: 69 entries\n",
      "Lychee: 30 entries\n",
      "Dragonfruit: 1 entries\n",
      "Persimmon: 41 entries\n",
      "Mulberry: 1 entries\n",
      "Cranberry: 1593 entries\n",
      "Cantaloupe: 73 entries\n",
      "Honeydew: 37 entries\n",
      "Starfruit: 2 entries\n",
      "Durian: 2 entries\n",
      "Jackfruit: 5 entries\n",
      "Passionfruit: 30 entries\n",
      "Rambutan: 1 entries\n",
      "Longan: 1 entries\n",
      "Soursop: 3 entries\n",
      "Gooseberry: 24 entries\n",
      "Sugar Apple: 6 entries\n",
      "Elderberry: 6 entries\n",
      "Quince: 11 entries\n",
      "Tamarind: 55 entries\n",
      "Breadfruit: 9 entries\n",
      "Jujube: 2 entries\n",
      "Currant: 95 entries\n",
      "Acerola: 1 entries\n",
      "Boysenberry: 3 entries\n",
      "Carrot: 1751 entries\n",
      "Potato: 8025 entries\n",
      "Tomato: 5063 entries\n",
      "Onion: 2492 entries\n",
      "Garlic: 3051 entries\n",
      "Spinach: 2767 entries\n",
      "Lettuce: 285 entries\n",
      "Kale: 295 entries\n",
      "Broccoli: 1981 entries\n",
      "Cauliflower: 846 entries\n",
      "Cucumber: 1038 entries\n",
      "Zucchini: 1649 entries\n",
      "Eggplant: 825 entries\n",
      "Bell Pepper: 453 entries\n",
      "Chili Pepper: 9 entries\n",
      "Beet: 483 entries\n",
      "Radish: 358 entries\n",
      "Turnip: 110 entries\n",
      "Sweet Potato: 1488 entries\n",
      "Pumpkin: 2227 entries\n",
      "Squash: 1515 entries\n",
      "Celery: 211 entries\n",
      "Asparagus: 1235 entries\n",
      "Green Bean: 1134 entries\n",
      "Pea: 6795 entries\n",
      "Okra: 158 entries\n",
      "Cabbage: 1335 entries\n",
      "Bok Choy: 107 entries\n",
      "Brussels Sprouts: 302 entries\n",
      "Artichoke: 970 entries\n",
      "Leek: 484 entries\n",
      "Fennel: 346 entries\n",
      "Shallot: 189 entries\n",
      "Ginger: 1999 entries\n",
      "Turmeric: 26 entries\n",
      "Collard Greens: 59 entries\n",
      "Mustard Greens: 15 entries\n",
      "Swiss Chard: 98 entries\n",
      "Watercress: 91 entries\n",
      "Arugula: 198 entries\n",
      "Taro: 22 entries\n",
      "Yam: 185 entries\n",
      "Bamboo Shoot: 7 entries\n",
      "Corn: 4357 entries\n",
      "Parsley: 220 entries\n",
      "Cilantro: 479 entries\n",
      "Basil: 1052 entries\n",
      "Thyme: 253 entries\n",
      "Rosemary: 647 entries\n",
      "Oregano: 75 entries\n",
      "Mint: 1020 entries\n",
      "Chives: 60 entries\n",
      "Dill: 1116 entries\n",
      "Sage: 2175 entries\n",
      "Tarragon: 239 entries\n",
      "Marjoram: 6 entries\n",
      "Curry Leaf: 1 entries\n",
      "Bay Leaf: 5 entries\n",
      "Chicken: 18628 entries\n",
      "Duck: 109 entries\n",
      "Turkey: 2472 entries\n",
      "Goose: 38 entries\n",
      "Quail: 25 entries\n",
      "Rabbit: 80 entries\n",
      "Cow: 179 entries\n",
      "Pig: 101 entries\n",
      "Sheep: 5 entries\n",
      "Goat: 497 entries\n",
      "Buffalo: 298 entries\n",
      "Camel: 3 entries\n",
      "Yak: 407 entries\n",
      "Horse: 261 entries\n",
      "Deer: 72 entries\n",
      "Elk: 60 entries\n",
      "Moose: 50 entries\n",
      "Reindeer: 22 entries\n",
      "Kangaroo: 13 entries\n",
      "Ostrich: 13 entries\n",
      "Emu: 21 entries\n",
      "Pheasant: 18 entries\n",
      "Partridge: 5 entries\n",
      "Dove: 31 entries\n",
      "Pigeon: 20 entries\n",
      "Crab: 1149 entries\n",
      "Lobster: 207 entries\n",
      "Shrimp: 2949 entries\n",
      "Fish: 1860 entries\n",
      "Tuna: 1614 entries\n",
      "Salmon: 2100 entries\n",
      "Cod: 223 entries\n",
      "Tilapia: 282 entries\n",
      "Catfish: 163 entries\n",
      "Sardine: 36 entries\n",
      "Anchovy: 63 entries\n",
      "Mackerel: 26 entries\n",
      "Trout: 116 entries\n",
      "Bass: 89 entries\n",
      "Eel: 359 entries\n",
      "Squid: 37 entries\n",
      "Octopus: 29 entries\n",
      "Clam: 379 entries\n",
      "Oyster: 245 entries\n",
      "Mussel: 168 entries\n",
      "Scallop: 786 entries\n",
      "Sea Urchin: 1 entries\n",
      "Cuttlefish: 3 entries\n",
      "Hare: 12 entries\n",
      "Bison: 20 entries\n",
      "Crocodile: 2 entries\n",
      "Alligator: 10 entries\n",
      "Wild Boar: 6 entries\n",
      "Grouse: 5 entries\n",
      "Capon: 35 entries\n",
      "Snake: 10 entries\n",
      "Turtle: 107 entries\n",
      "Armadillo: 8 entries\n",
      "\n",
      "Filtered DataFrame with Matches:\n",
      "                                            Name  Calories  Protein(g)  \\\n",
      "73720                Garlic Polenta With Sausage     386.9        17.3   \n",
      "304427  Pinjur Macedonian Aubergine Eggplant Dip     163.1         4.7   \n",
      "28461                    Green Bell Pepper Rings      92.4         1.4   \n",
      "458212                        Lively Lemon Pesto      37.4         0.6   \n",
      "418244                 Bavarian Potato Dumplings     435.5        10.1   \n",
      "...                                          ...       ...         ...   \n",
      "48875                 Broiled Lemon Herb Chicken     395.9        28.7   \n",
      "472749                 Tomato and Red Wine Sauce     302.0         4.7   \n",
      "358600          Chicken With Apples and Stuffing     329.9        21.4   \n",
      "452303                   Insane Banana Nut Bread     230.4         3.3   \n",
      "72613                             Garlic Chicken     509.2        43.7   \n",
      "\n",
      "        Fat(g)  SaturatedFat(g)  Cholesterol(mg)  Sodium(mg)  Carbohydrate(g)  \\\n",
      "73720     21.6              7.4             43.1      1484.8             28.0   \n",
      "304427     9.8              1.1              0.0       588.1             18.6   \n",
      "28461      7.0              1.0              0.0       198.8              7.6   \n",
      "458212     3.1              0.4              0.0       112.3              2.0   \n",
      "418244    20.8             12.0            151.5      2072.1             52.4   \n",
      "...        ...              ...              ...         ...              ...   \n",
      "48875     29.1              4.0             68.4       371.0             12.3   \n",
      "472749    18.6              2.6              0.0        77.0             26.9   \n",
      "358600     4.3              0.8             45.9       837.1             51.4   \n",
      "452303    11.5              5.5             51.3       337.5             29.7   \n",
      "72613     32.4              9.2            155.2       721.5             10.2   \n",
      "\n",
      "        Fiber(g)  Sugar(g)  \n",
      "73720        3.5       5.2  \n",
      "304427      10.2       6.8  \n",
      "28461        2.6       3.6  \n",
      "458212       0.6       0.1  \n",
      "418244       3.9       2.3  \n",
      "...          ...       ...  \n",
      "48875        5.2       0.0  \n",
      "472749       5.4      13.8  \n",
      "358600       2.3      19.0  \n",
      "452303       1.1      19.1  \n",
      "72613        1.8       0.7  \n",
      "\n",
      "[95970 rows x 10 columns]\n"
     ]
    }
   ],
   "source": [
    "food_keywords = [\n",
    "    # Buah-buahan\n",
    "    \"Apple\", \"Banana\", \"Orange\", \"Mango\", \"Strawberry\", \"Pineapple\", \"Watermelon\", \"Papaya\", \n",
    "    \"Grape\", \"Blueberry\", \"Blackberry\", \"Raspberry\", \"Cherry\", \"Kiwi\", \"Lemon\", \"Lime\", \n",
    "    \"Peach\", \"Pear\", \"Plum\", \"Pomegranate\", \"Avocado\", \"Coconut\", \"Guava\", \"Fig\", \"Dates\", \n",
    "    \"Lychee\", \"Dragonfruit\", \"Persimmon\", \"Mulberry\", \"Cranberry\", \"Cantaloupe\", \"Honeydew\", \n",
    "    \"Starfruit\", \"Durian\", \"Jackfruit\", \"Passionfruit\", \"Rambutan\", \"Longan\", \"Soursop\", \n",
    "    \"Gooseberry\", \"Mangosteen\", \"Sugar Apple\", \"Salak\", \"Elderberry\", \"Quince\", \"Tamarind\", \n",
    "    \"Sapodilla\", \"Bael\", \"Breadfruit\", \"Ackee\", \"Jujube\", \"Medlar\", \"Currant\", \"Acerola\", \n",
    "    \"Loquat\", \"Boysenberry\", \"Ugli Fruit\",\n",
    "\n",
    "    # Sayuran\n",
    "    \"Carrot\", \"Potato\", \"Tomato\", \"Onion\", \"Garlic\", \"Spinach\", \"Lettuce\", \"Kale\", \"Broccoli\", \n",
    "    \"Cauliflower\", \"Cucumber\", \"Zucchini\", \"Eggplant\", \"Bell Pepper\", \"Chili Pepper\", \"Beet\", \n",
    "    \"Radish\", \"Turnip\", \"Sweet Potato\", \"Pumpkin\", \"Squash\", \"Celery\", \"Asparagus\", \"Green Bean\", \n",
    "    \"Pea\", \"Okra\", \"Cabbage\", \"Bok Choy\", \"Brussels Sprouts\", \"Artichoke\", \"Leek\", \"Fennel\", \n",
    "    \"Shallot\", \"Ginger\", \"Turmeric\", \"Collard Greens\", \"Mustard Greens\", \"Swiss Chard\", \n",
    "    \"Watercress\", \"Arugula\", \"Taro\", \"Yam\", \"Bamboo Shoot\", \"Corn\", \"Parsley\", \"Cilantro\", \n",
    "    \"Basil\", \"Thyme\", \"Rosemary\", \"Oregano\", \"Mint\", \"Chives\", \"Dill\", \"Parsley\", \"Cilantro\", \n",
    "    \"Basil\", \"Thyme\",\"Rosemary\", \"Sage\", \"Oregano\", \"Tarragon\", \"Marjoram\", \"Chives\", \"Curry Leaf\", \n",
    "    \"Bay Leaf\",\n",
    "\n",
    "    # Hewan Ternak\n",
    "    \"Chicken\", \"Duck\", \"Turkey\", \"Goose\", \"Quail\", \"Rabbit\", \"Cow\", \"Pig\", \"Sheep\", \"Goat\", \n",
    "    \"Buffalo\", \"Camel\", \"Yak\", \"Horse\", \"Deer\", \"Elk\", \"Moose\", \"Reindeer\", \"Kangaroo\", \n",
    "    \"Ostrich\", \"Emu\", \"Pheasant\", \"Partridge\", \"Dove\", \"Pigeon\", \"Crab\", \"Lobster\", \"Shrimp\", \n",
    "    \"Fish\", \"Tuna\", \"Salmon\", \"Cod\", \"Tilapia\", \"Catfish\", \"Sardine\", \"Anchovy\", \"Mackerel\", \n",
    "    \"Trout\", \"Bass\", \"Eel\", \"Squid\", \"Octopus\", \"Clam\", \"Oyster\", \"Mussel\", \"Scallop\", \"Sea Urchin\", \n",
    "    \"Cuttlefish\", \"Lobster\",\"Hare\", \"Guinea Pig\", \"Llama\", \"Alpaca\", \"Bison\", \"Crocodile\", \"Alligator\",\n",
    "    \"Wild Boar\",\"Pheasant\", \"Grouse\", \"Peafowl\", \"Capon\", \"Silkie Chicken\", \"Snake\", \"Turtle\", \n",
    "    \"Pangolin\", \"Armadillo\"\n",
    "]\n",
    "# # Filter baris di mana kolom 'Name' mengandung '&laquo;'\n",
    "# result = df['Name'].str.contains('Banana', na=False)\n",
    "# filtered_df = df[result]\n",
    "# filtered_df\n",
    "\n",
    "# Menyimpan hasil jumlah entri yang cocok\n",
    "match_counts = {}\n",
    "\n",
    "# Loop melalui setiap kata kunci\n",
    "for keyword in food_keywords:\n",
    "    # Filter baris di mana kolom 'Name' mengandung keyword\n",
    "    result = df['Name'].str.contains(keyword, na=False, case=False)\n",
    "    filtered_df = df[result]\n",
    "    \n",
    "    # Simpan jumlah entri yang cocok untuk setiap kata kunci\n",
    "    match_counts[keyword] = len(filtered_df)\n",
    "\n",
    "# Tampilkan hasil jumlah yang cocok\n",
    "for keyword, count in match_counts.items():\n",
    "    if count > 0:  # Menampilkan hanya kata kunci dengan hasil cocok\n",
    "        print(f\"{keyword}: {count} entries\")\n",
    "\n",
    "# Jika ingin menyimpan hasil cocok ke DataFrame baru\n",
    "matched_names_df = df[df['Name'].apply(lambda x: any(k in x for k in food_keywords))]\n",
    "print(\"\\nFiltered DataFrame with Matches:\")\n",
    "print(matched_names_df)"
   ]
  },
  {
   "cell_type": "markdown",
   "id": "f8c3a5e6",
   "metadata": {},
   "source": []
  },
  {
   "cell_type": "code",
   "execution_count": null,
   "id": "78dc110a",
   "metadata": {},
   "outputs": [],
   "source": []
  },
  {
   "cell_type": "markdown",
   "id": "76dd772f",
   "metadata": {},
   "source": []
  },
  {
   "cell_type": "markdown",
   "id": "e3901d79",
   "metadata": {},
   "source": []
  },
  {
   "cell_type": "code",
   "execution_count": null,
   "id": "21df6323",
   "metadata": {},
   "outputs": [],
   "source": []
  },
  {
   "cell_type": "code",
   "execution_count": null,
   "id": "8ef49eb9",
   "metadata": {},
   "outputs": [],
   "source": []
  },
  {
   "cell_type": "code",
   "execution_count": null,
   "id": "4ef454c4",
   "metadata": {},
   "outputs": [],
   "source": []
  },
  {
   "cell_type": "code",
   "execution_count": null,
   "id": "ab1ff96a",
   "metadata": {},
   "outputs": [],
   "source": []
  },
  {
   "cell_type": "code",
   "execution_count": null,
   "id": "49bacd85",
   "metadata": {},
   "outputs": [],
   "source": []
  },
  {
   "cell_type": "code",
   "execution_count": null,
   "id": "f9e07167",
   "metadata": {},
   "outputs": [],
   "source": []
  },
  {
   "cell_type": "code",
   "execution_count": null,
   "id": "aee0841a",
   "metadata": {},
   "outputs": [],
   "source": []
  },
  {
   "cell_type": "code",
   "execution_count": null,
   "id": "40220de4",
   "metadata": {},
   "outputs": [],
   "source": []
  },
  {
   "cell_type": "code",
   "execution_count": null,
   "id": "c1e9889d",
   "metadata": {},
   "outputs": [],
   "source": []
  }
 ],
 "metadata": {
  "kernelspec": {
   "display_name": "Python 3",
   "language": "python",
   "name": "python3"
  },
  "language_info": {
   "codemirror_mode": {
    "name": "ipython",
    "version": 3
   },
   "file_extension": ".py",
   "mimetype": "text/x-python",
   "name": "python",
   "nbconvert_exporter": "python",
   "pygments_lexer": "ipython3",
   "version": "3.9.0"
  }
 },
 "nbformat": 4,
 "nbformat_minor": 5
}
